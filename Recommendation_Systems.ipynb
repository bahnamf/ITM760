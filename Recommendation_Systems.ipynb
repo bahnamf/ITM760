{
  "nbformat": 4,
  "nbformat_minor": 0,
  "metadata": {
    "colab": {
      "name": "Recommendation  Systems",
      "provenance": [],
      "authorship_tag": "ABX9TyOa7iJHwTp6tE8ACdGli7hD",
      "include_colab_link": true
    },
    "kernelspec": {
      "name": "python3",
      "display_name": "Python 3"
    },
    "language_info": {
      "name": "python"
    }
  },
  "cells": [
    {
      "cell_type": "markdown",
      "metadata": {
        "id": "view-in-github",
        "colab_type": "text"
      },
      "source": [
        "<a href=\"https://colab.research.google.com/github/tofighi/ITM760/blob/main/Recommendation_Systems.ipynb\" target=\"_parent\"><img src=\"https://colab.research.google.com/assets/colab-badge.svg\" alt=\"Open In Colab\"/></a>"
      ]
    },
    {
      "cell_type": "code",
      "execution_count": 5,
      "metadata": {
        "colab": {
          "base_uri": "https://localhost:8080/"
        },
        "id": "3ptRThcmTh8H",
        "outputId": "dac93af9-e92d-40ad-ece7-ea79a6f0ade1"
      },
      "outputs": [
        {
          "output_type": "execute_result",
          "data": {
            "text/plain": [
              "0.6172133998483676"
            ]
          },
          "metadata": {},
          "execution_count": 5
        }
      ],
      "source": [
        "from scipy import spatial\n",
        "\n",
        "#User Profile\n",
        "U1 = [0.2,0,0.4,0.1]\n",
        "\n",
        "#Movie1 Profile\n",
        "M1 = [0,1,1,0]\n",
        "\n",
        "result = 1 - spatial.distance.cosine(U1, M1)\n",
        "result"
      ]
    },
    {
      "cell_type": "code",
      "source": [
        "M2 = [1,1,0,1]\n",
        "result = 1 - spatial.distance.cosine(U1, M2)\n",
        "result"
      ],
      "metadata": {
        "colab": {
          "base_uri": "https://localhost:8080/"
        },
        "id": "SOqWPk1YTlZJ",
        "outputId": "ee62456c-0021-482d-8c76-e0368ec1deaf"
      },
      "execution_count": 6,
      "outputs": [
        {
          "output_type": "execute_result",
          "data": {
            "text/plain": [
              "0.40824829046386313"
            ]
          },
          "metadata": {},
          "execution_count": 6
        }
      ]
    },
    {
      "cell_type": "code",
      "source": [
        "M3 = [1,0,0,1]\n",
        "result = 1 - spatial.distance.cosine(U1, M2)\n",
        "result"
      ],
      "metadata": {
        "colab": {
          "base_uri": "https://localhost:8080/"
        },
        "id": "rPu6PcYwUj2M",
        "outputId": "1395c197-12c5-4b44-c1c9-e0a480c4bd7b"
      },
      "execution_count": 7,
      "outputs": [
        {
          "output_type": "execute_result",
          "data": {
            "text/plain": [
              "0.40824829046386313"
            ]
          },
          "metadata": {},
          "execution_count": 7
        }
      ]
    },
    {
      "cell_type": "markdown",
      "source": [
        "#Pearson correlation"
      ],
      "metadata": {
        "id": "zbQ_GBhecLaD"
      }
    },
    {
      "cell_type": "code",
      "source": [
        "import numpy\n",
        "alice = [5,3,4,4]\n",
        "user1 = [3,1,2,3]\n",
        "numpy.corrcoef(alice, user1)[1,0]"
      ],
      "metadata": {
        "colab": {
          "base_uri": "https://localhost:8080/"
        },
        "id": "Rxi4dc2DbNHt",
        "outputId": "e2dc9d54-e737-4ea1-cfd6-b5905adef3e6"
      },
      "execution_count": 11,
      "outputs": [
        {
          "output_type": "execute_result",
          "data": {
            "text/plain": [
              "0.8528028654224417"
            ]
          },
          "metadata": {},
          "execution_count": 11
        }
      ]
    },
    {
      "cell_type": "code",
      "source": [
        "user2= [4,3,4,3]\n",
        "numpy.corrcoef(alice, user2)[1,0]"
      ],
      "metadata": {
        "colab": {
          "base_uri": "https://localhost:8080/"
        },
        "id": "QdufavuSb86C",
        "outputId": "f8aeab94-d408-4a41-87ff-5492911bb8a6"
      },
      "execution_count": 12,
      "outputs": [
        {
          "output_type": "execute_result",
          "data": {
            "text/plain": [
              "0.7071067811865475"
            ]
          },
          "metadata": {},
          "execution_count": 12
        }
      ]
    },
    {
      "cell_type": "code",
      "source": [
        "user3= [3,3,1,5]\n",
        "numpy.corrcoef(alice, user3)[1,0]"
      ],
      "metadata": {
        "colab": {
          "base_uri": "https://localhost:8080/"
        },
        "id": "VLYxQbsgdMSn",
        "outputId": "19acc0ec-2b71-400d-e559-4ab91b8b6e61"
      },
      "execution_count": 14,
      "outputs": [
        {
          "output_type": "execute_result",
          "data": {
            "text/plain": [
              "0.0"
            ]
          },
          "metadata": {},
          "execution_count": 14
        }
      ]
    },
    {
      "cell_type": "code",
      "source": [
        "user4= [1,5,5,2]\n",
        "numpy.corrcoef(alice, user4)[1,0]"
      ],
      "metadata": {
        "colab": {
          "base_uri": "https://localhost:8080/"
        },
        "id": "x_dXJjojcVT3",
        "outputId": "23176e9c-4eb8-42ce-a3fa-bde7604872da"
      },
      "execution_count": 13,
      "outputs": [
        {
          "output_type": "execute_result",
          "data": {
            "text/plain": [
              "-0.7921180343813393"
            ]
          },
          "metadata": {},
          "execution_count": 13
        }
      ]
    },
    {
      "cell_type": "code",
      "source": [
        ""
      ],
      "metadata": {
        "id": "3VKeuKkPcfgN"
      },
      "execution_count": null,
      "outputs": []
    }
  ]
}